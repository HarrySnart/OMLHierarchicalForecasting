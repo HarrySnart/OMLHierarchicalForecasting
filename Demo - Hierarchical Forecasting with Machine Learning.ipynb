{
  "metadata": {
    "title": "Hierarchical Forecasting with Machine Learning"
  },
  "nbformat": 4,
  "nbformat_minor": 0,
  "cells": [
    {
      "cell_type": "markdown",
      "metadata": {
        "collapsed": false
      },
      "source": [
        "# Retail Forecasting with Oracle Machine Learning\n",
        "\n",
        "Time Series Forecasting across hierarchies can be complex, since we may need to factor in seasonality, exogenous factors and auto-correlation in the time series. We need to effectively model each series at the lowest level. Using modern Machine Learning based techniques we can learn these trends directly from the data"
      ]
    },
    {
      "cell_type": "markdown",
      "metadata": {
        "collapsed": false
      },
      "source": [
        "### Profile Data"
      ]
    },
    {
      "cell_type": "raw",
      "metadata": {
        "collapsed": false,
        "name": "View Snippet of Sales Data"
      },
      "source": [
        "%sql\n",
        "select * from retail_forecast_data"
      ]
    },
    {
      "cell_type": "raw",
      "metadata": {
        "collapsed": false,
        "name": "View Dataset Size"
      },
      "source": [
        "%sql select count(*) total_rows from retail_forecast_data"
      ]
    },
    {
      "cell_type": "raw",
      "metadata": {
        "collapsed": false,
        "name": "View Number of Distinct Hierarchies"
      },
      "source": [
        "%sql select count(*) total_hierarchies from (select distinct city,stock_desc from retail_forecast_data)"
      ]
    },
    {
      "cell_type": "raw",
      "metadata": {
        "collapsed": false,
        "name": "View Series Start Date"
      },
      "source": [
        "%sql select min(sales_date) start_date from retail_forecast_data"
      ]
    },
    {
      "cell_type": "raw",
      "metadata": {
        "collapsed": false,
        "name": "View Series End Date"
      },
      "source": [
        "%sql select max(sales_date) end_date from retail_forecast_data"
      ]
    },
    {
      "cell_type": "markdown",
      "metadata": {
        "collapsed": false
      },
      "source": [
        "### Prepare Time Series Data for Modelling"
      ]
    },
    {
      "cell_type": "raw",
      "metadata": {
        "collapsed": false,
        "name": "Prepare Data by Lagging Sales History by Hierarchy Level"
      },
      "source": [
        "%sql \n",
        "create table retail_data_lagged as\n",
        "select * from (\n",
        "select region,county,product_group,product_sub_group,city,stock_desc,sales_date,day,month,sales_quantity, sales_lag1,sales_lag2,sales_lag3,sales_lag4,sales_lag5,sales_lag6,sales_lag7,sales_lag8,sales_lag9,sales_lag10,sales_lag11,sales_lag12,sales_lag13,sales_lag14 from (\n",
        " select region,county,product_group,product_sub_group, city, stock_desc,city||'-'||stock_desc branch_item,sales_date, TO_CHAR(sales_date, 'DAY') day,TO_CHAR(sales_date, 'MONTH') month, sales_quantity,\n",
        " LAG(sales_quantity,1,0) OVER (ORDER BY city||'-'||stock_desc,sales_date) lag1,\n",
        " LAG(sales_quantity,2,0) OVER (ORDER BY city||'-'||stock_desc,sales_date) lag2,\n",
        " LAG(sales_quantity,3,0) OVER (ORDER BY city||'-'||stock_desc,sales_date) lag3,\n",
        " LAG(sales_quantity,4,0) OVER (ORDER BY city||'-'||stock_desc,sales_date) lag4,\n",
        " LAG(sales_quantity,5,0) OVER (ORDER BY city||'-'||stock_desc,sales_date) lag5,\n",
        "LAG(sales_quantity,6,0) OVER (ORDER BY city||'-'||stock_desc,sales_date) lag6,\n",
        "LAG(sales_quantity,7,0) OVER (ORDER BY city||'-'||stock_desc,sales_date) lag7,\n",
        "LAG(sales_quantity,8,0) OVER (ORDER BY city||'-'||stock_desc,sales_date) lag8,\n",
        "LAG(sales_quantity,9,0) OVER (ORDER BY city||'-'||stock_desc,sales_date) lag9,\n",
        "LAG(sales_quantity,10,0) OVER (ORDER BY city||'-'||stock_desc,sales_date) lag10,\n",
        "LAG(sales_quantity,11,0) OVER (ORDER BY city||'-'||stock_desc,sales_date) lag11,\n",
        "LAG(sales_quantity,12,0) OVER (ORDER BY city||'-'||stock_desc,sales_date) lag12,\n",
        "LAG(sales_quantity,13,0) OVER (ORDER BY city||'-'||stock_desc,sales_date) lag13,\n",
        "LAG(sales_quantity,14,0) OVER (ORDER BY city||'-'||stock_desc,sales_date) lag14,\n",
        "LAG(city||'-'||stock_desc,1,0) OVER (ORDER BY city||'-'||stock_desc,sales_date) lag1_lbl,\n",
        " LAG(city||'-'||stock_desc,2,0) OVER (ORDER BY city||'-'||stock_desc,sales_date) lag2_lbl,\n",
        " LAG(city||'-'||stock_desc,3,0) OVER (ORDER BY city||'-'||stock_desc,sales_date) lag3_lbl,\n",
        " LAG(city||'-'||stock_desc,4,0) OVER (ORDER BY city||'-'||stock_desc,sales_date) lag4_lbl,\n",
        " LAG(city||'-'||stock_desc,5,0) OVER (ORDER BY city||'-'||stock_desc,sales_date) lag5_lbl,\n",
        " LAG(city||'-'||stock_desc,6,0) OVER (ORDER BY city||'-'||stock_desc,sales_date) lag6_lbl,\n",
        " LAG(city||'-'||stock_desc,7,0) OVER (ORDER BY city||'-'||stock_desc,sales_date) lag7_lbl,\n",
        " LAG(city||'-'||stock_desc,8,0) OVER (ORDER BY city||'-'||stock_desc,sales_date) lag8_lbl,\n",
        " LAG(city||'-'||stock_desc,9,0) OVER (ORDER BY city||'-'||stock_desc,sales_date) lag9_lbl,\n",
        " LAG(city||'-'||stock_desc,10,0) OVER (ORDER BY city||'-'||stock_desc,sales_date) lag10_lbl,\n",
        " LAG(city||'-'||stock_desc,11,0) OVER (ORDER BY city||'-'||stock_desc,sales_date) lag11_lbl,\n",
        " LAG(city||'-'||stock_desc,12,0) OVER (ORDER BY city||'-'||stock_desc,sales_date) lag12_lbl,\n",
        " LAG(city||'-'||stock_desc,13,0) OVER (ORDER BY city||'-'||stock_desc,sales_date) lag13_lbl,\n",
        " LAG(city||'-'||stock_desc,14,0) OVER (ORDER BY city||'-'||stock_desc,sales_date) lag14_lbl,\n",
        "case when LAG(city||'-'||stock_desc,1,0) OVER (ORDER BY city||'-'||stock_desc,sales_date) = city||'-'||stock_desc then LAG(sales_quantity,1,0) OVER (ORDER BY city||'-'||stock_desc,sales_date) else 0 end as sales_lag1,\n",
        "case when  LAG(city||'-'||stock_desc,2,0) OVER (ORDER BY city||'-'||stock_desc,sales_date)  = city||'-'||stock_desc then LAG(sales_quantity,2,0) OVER (ORDER BY city||'-'||stock_desc,sales_date) else 0 end as sales_lag2,\n",
        "case when LAG(city||'-'||stock_desc,3,0) OVER (ORDER BY city||'-'||stock_desc,sales_date) = city||'-'||stock_desc then LAG(sales_quantity,3,0) OVER (ORDER BY city||'-'||stock_desc,sales_date) else 0 end as sales_lag3,\n",
        "case when LAG(city||'-'||stock_desc,4,0) OVER (ORDER BY city||'-'||stock_desc,sales_date) = city||'-'||stock_desc then  LAG(sales_quantity,4,0) OVER (ORDER BY city||'-'||stock_desc,sales_date) else 0 end as sales_lag4,\n",
        "case when LAG(city||'-'||stock_desc,5,0) OVER (ORDER BY city||'-'||stock_desc,sales_date) = city||'-'||stock_desc then LAG(sales_quantity,5,0) OVER (ORDER BY city||'-'||stock_desc,sales_date)  else 0 end as sales_lag5,\n",
        "case when LAG(city||'-'||stock_desc,6,0) OVER (ORDER BY city||'-'||stock_desc,sales_date) = city||'-'||stock_desc then LAG(sales_quantity,6,0) OVER (ORDER BY city||'-'||stock_desc,sales_date)  else 0 end as sales_lag6,\n",
        "case when LAG(city||'-'||stock_desc,7,0) OVER (ORDER BY city||'-'||stock_desc,sales_date) = city||'-'||stock_desc then LAG(sales_quantity,7,0) OVER (ORDER BY city||'-'||stock_desc,sales_date)  else 0 end as sales_lag7,\n",
        "case when LAG(city||'-'||stock_desc,8,0) OVER (ORDER BY city||'-'||stock_desc,sales_date) = city||'-'||stock_desc then LAG(sales_quantity,8,0) OVER (ORDER BY city||'-'||stock_desc,sales_date)  else 0 end as sales_lag8,\n",
        "case when LAG(city||'-'||stock_desc,9,0) OVER (ORDER BY city||'-'||stock_desc,sales_date) = city||'-'||stock_desc then LAG(sales_quantity,9,0) OVER (ORDER BY city||'-'||stock_desc,sales_date)  else 0 end as sales_lag9,\n",
        "case when LAG(city||'-'||stock_desc,10,0) OVER (ORDER BY city||'-'||stock_desc,sales_date) = city||'-'||stock_desc then LAG(sales_quantity,10,0) OVER (ORDER BY city||'-'||stock_desc,sales_date)  else 0 end as sales_lag10,\n",
        "case when LAG(city||'-'||stock_desc,11,0) OVER (ORDER BY city||'-'||stock_desc,sales_date) = city||'-'||stock_desc then LAG(sales_quantity,11,0) OVER (ORDER BY city||'-'||stock_desc,sales_date)  else 0 end as sales_lag11,\n",
        "case when LAG(city||'-'||stock_desc,12,0) OVER (ORDER BY city||'-'||stock_desc,sales_date) = city||'-'||stock_desc then LAG(sales_quantity,12,0) OVER (ORDER BY city||'-'||stock_desc,sales_date)  else 0 end as sales_lag12,\n",
        "case when LAG(city||'-'||stock_desc,13,0) OVER (ORDER BY city||'-'||stock_desc,sales_date) = city||'-'||stock_desc then LAG(sales_quantity,13,0) OVER (ORDER BY city||'-'||stock_desc,sales_date)  else 0 end as sales_lag13,\n",
        "case when LAG(city||'-'||stock_desc,14,0) OVER (ORDER BY city||'-'||stock_desc,sales_date) = city||'-'||stock_desc then LAG(sales_quantity,14,0) OVER (ORDER BY city||'-'||stock_desc,sales_date)  else 0 end as sales_lag14\n",
        "from retail_forecast_data order by city, stock_desc,sales_date ));"
      ]
    },
    {
      "cell_type": "raw",
      "metadata": {
        "collapsed": false,
        "name": "View Results of Lagging"
      },
      "source": [
        "%sql\n",
        "\n",
        "select * from retail_data_lagged"
      ]
    },
    {
      "cell_type": "markdown",
      "metadata": {
        "collapsed": false
      },
      "source": [
        "### Feature Importance Modelling for Sales Quantity"
      ]
    },
    {
      "cell_type": "raw",
      "metadata": {
        "collapsed": false,
        "name": "Check Feature Importance"
      },
      "source": [
        "%script\n",
        "BEGIN DBMS_DATA_MINING.DROP_MODEL('AI_FS_MODEL');\n",
        "EXCEPTION WHEN OTHERS THEN NULL; END;\n",
        "/\n",
        "DECLARE\n",
        "    V_SETLST DBMS_DATA_MINING.SETTING_LIST;\n",
        "BEGIN\n",
        "    V_SETLST('ALGO_NAME')  := 'ALGO_AI_MDL';\n",
        "    V_SETLST('PREP_AUTO')  := 'ON';\n",
        "\n",
        "    DBMS_DATA_MINING.CREATE_MODEL2(\n",
        "        MODEL_NAME          => 'AI_FS_MODEL',\n",
        "        MINING_FUNCTION     => 'ATTRIBUTE_IMPORTANCE',\n",
        "        DATA_QUERY          => 'SELECT * FROM retail_data_lagged',\n",
        "        SET_LIST            => V_SETLST,\n",
        "        CASE_ID_COLUMN_NAME => 'SALES_DATE',\n",
        "        TARGET_COLUMN_NAME  => 'SALES_QUANTITY');\n",
        "END;"
      ]
    },
    {
      "cell_type": "raw",
      "metadata": {
        "collapsed": false,
        "name": "Feature Importance Plot"
      },
      "source": [
        "%sql\n",
        "SELECT ATTRIBUTE_NAME, ATTRIBUTE_IMPORTANCE_VALUE, ATTRIBUTE_RANK \n",
        "FROM   DM$VAAI_FS_MODEL \n",
        "WHERE  ATTRIBUTE_IMPORTANCE_VALUE > 0\n",
        "ORDER BY ATTRIBUTE_IMPORTANCE_VALUE DESC"
      ]
    },
    {
      "cell_type": "markdown",
      "metadata": {
        "collapsed": false
      },
      "source": [
        "### Split Data for Within-Sample Accuracy Estimate"
      ]
    },
    {
      "cell_type": "raw",
      "metadata": {
        "collapsed": false,
        "name": "Create Train Partition"
      },
      "source": [
        "%sql\n",
        "-- train data (up to 11/04/2024)\n",
        "\n",
        "create table retail_forecast_train as (select * from retail_data_lagged where sales_date <= to_date('11/04/2024','dd/mm/yyyy'))"
      ]
    },
    {
      "cell_type": "raw",
      "metadata": {
        "collapsed": false,
        "name": "Create Test Partition"
      },
      "source": [
        "%sql\n",
        "-- test data (from 11/04/2024)\n",
        "create table retail_forecast_test as (select * from retail_data_lagged where sales_date > to_date('11/04/2024','dd/mm/yyyy'))"
      ]
    },
    {
      "cell_type": "markdown",
      "metadata": {
        "collapsed": false
      },
      "source": [
        "### Build Oracle Machine Learning Model (Using AutoML Pipeline)"
      ]
    },
    {
      "cell_type": "raw",
      "metadata": {
        "collapsed": false,
        "name": "Drop Existing Model"
      },
      "source": [
        "%script\n",
        "BEGIN DBMS_DATA_MINING.DROP_MODEL('GLM_RIDGE_OML4PY_AUTO_PIPE');\n",
        "EXCEPTION WHEN OTHERS THEN NULL; END;\n",
        "/"
      ]
    },
    {
      "cell_type": "code",
      "metadata": {
        "collapsed": false,
        "name": "Use OML4Py to train an AutoML Pipeline"
      },
      "outputs": [
        {
          "output_type": "display_data",
          "metadata": {},
          "data": {
            "text/plain": [
              "\nModel Name: GLM_RIDGE_OML4PY_AUTO_PIPE\n\nModel Owner: DATASCIENCE\n\nAlgorithm Name: Generalized Linear Model\n\nMining Function: REGRESSION\n\nTarget: SALES_QUANTITY\n\nSettings: \n                    setting name                  setting value\n0                      ALGO_NAME  ALGO_GENERALIZED_LINEAR_MODEL\n1                GLMS_CONF_LEVEL                            .95\n2            GLMS_FTR_GENERATION    GLMS_FTR_GENERATION_DISABLE\n3             GLMS_FTR_SELECTION     GLMS_FTR_SELECTION_DISABLE\n4             GLMS_LINK_FUNCTION             GLMS_IDENTITY_LINK\n5          GLMS_RIDGE_REGRESSION          GLMS_RIDGE_REG_ENABLE\n6               GLMS_RIDGE_VALUE                           0.01\n7             GLMS_VIF_FOR_RIDGE         GLMS_VIF_RIDGE_DISABLE\n8                   ODMS_DETAILS                    ODMS_ENABLE\n9   ODMS_MISSING_VALUE_TREATMENT        ODMS_MISSING_VALUE_AUTO\n10                 ODMS_SAMPLING          ODMS_SAMPLING_DISABLE\n11                     PREP_AUTO                             ON\n\nComputed Settings: \n              setting name            setting value\n0      GLMS_CONV_TOLERANCE  .0000050000000000000004\n1      GLMS_NUM_ITERATIONS                       30\n2              GLMS_SOLVER         GLMS_SOLVER_CHOL\n3  ODMS_EXPLOSION_MIN_SUPP                       30\n\nGlobal Statistics: \n             attribute name attribute value\n0         ADJUSTED_R_SQUARE        0.929366\n1                       AIC      1.0638e+07\n2                 COEFF_VAR         15.4027\n3                 CONVERGED             YES\n4        CORRECTED_TOTAL_DF         2743871\n5          CORRECTED_TOT_SS     1.87535e+09\n6            DEPENDENT_MEAN         45.1097\n7                  ERROR_DF         2743717\n8         ERROR_MEAN_SQUARE         48.2759\n9         ERROR_SUM_SQUARES     1.32455e+08\n10                  F_VALUE          234433\n11                    GMSEP         48.2786\n12               HOCKING_SP     1.75951e-05\n13                      J_P         48.2786\n14                 MODEL_DF             154\n15          MODEL_F_P_VALUE               0\n16        MODEL_MEAN_SQUARE     1.13175e+07\n17        MODEL_SUM_SQUARES     1.74289e+09\n18               NUM_PARAMS             155\n19                 NUM_ROWS         2743872\n20          RANK_DEFICIENCY               0\n21             ROOT_MEAN_SQ         6.94808\n22                     R_SQ         0.92937\n23                     SBIC     1.06399e+07\n24  VALID_COVARIANCE_MATRIX             YES\n\nAttributes: \nCITY\nCOUNTY\nDAY\nMONTH\nPRODUCT_GROUP\nPRODUCT_SUB_GROUP\nSALES_LAG1\nSALES_LAG10\nSALES_LAG11\nSALES_LAG12\nSALES_LAG13\nSALES_LAG14\nSALES_LAG2\nSALES_LAG3\nSALES_LAG4\nSALES_LAG5\nSALES_LAG6\nSALES_LAG7\nSALES_LAG8\nSALES_LAG9\nSTOCK_DESC\n\nPartition: NO\n\nCoefficients: \n\n    attribute name    attribute value  ...   p value  significance code\n0      (Intercept)               None  ...  0.915819                   \n1             CITY         Birmingham  ...  0.996747                   \n2             CITY  Brighton and Hove  ...  0.992658                   \n3             CITY            Bristol  ...  0.986740                   \n4             CITY          Cambridge  ...  0.987198                   \n..             ...                ...  ...       ...                ...\n150     STOCK_DESC         Toiletries  ...  0.989693                   \n151     STOCK_DESC              Vegan  ...  0.980211                   \n152     STOCK_DESC         Vegetarian  ...  0.948618                   \n153     STOCK_DESC               Wine  ...  0.996989                   \n154     STOCK_DESC        World Foods  ...  0.983136                   \n\n[155 rows x 7 columns]\n\nSignif. codes:  0 '***' 0.001 '**' 0.01 '*' 0.05 '.' 0.1 ' ' 1 '\n\nFit Details: \n\n                       name         value\n0         ADJUSTED_R_SQUARE  9.293663e-01\n1                       AIC  1.063796e+07\n2                 COEFF_VAR  1.540265e+01\n3        CORRECTED_TOTAL_DF  2.743871e+06\n4          CORRECTED_TOT_SS  1.875347e+09\n5            DEPENDENT_MEAN  4.510967e+01\n6                  ERROR_DF  2.743717e+06\n7         ERROR_MEAN_SQUARE  4.827588e+01\n8         ERROR_SUM_SQUARES  1.324554e+08\n9                   F_VALUE  2.344334e+05\n10                    GMSEP  4.827861e+01\n11               HOCKING_SP  1.759507e-05\n12                      J_P  4.827861e+01\n13          MODEL_CONVERGED  1.000000e+00\n14                 MODEL_DF  1.540000e+02\n15          MODEL_F_P_VALUE  0.000000e+00\n16        MODEL_MEAN_SQUARE  1.131748e+07\n17        MODEL_SUM_SQUARES  1.742892e+09\n18               NUM_PARAMS  1.550000e+02\n19                 NUM_ROWS  2.743872e+06\n20          RANK_DEFICIENCY  0.000000e+00\n21             ROOT_MEAN_SQ  6.948085e+00\n22                     R_SQ  9.293702e-01\n23                     SBIC  1.063995e+07\n24  VALID_COVARIANCE_MATRIX  1.000000e+00\n\nRank: \n\n155\n\nDeviance: \n\n132455354.314657\n\nAIC: \n\n10637960\n\nNull Deviance: \n\n1875346973.570094\n\nDF Residual: \n\n2743717.0\n\nDF Null: \n\n2743871.0\n\nConverged: \n\nTrue\n\n\n"
            ]
          }
        }
      ],
      "source": [
        "import oml\n",
        "from oml import automl\n",
        "import pandas as pd\n",
        "import numpy as np\n",
        "import warnings\n",
        "warnings.filterwarnings('ignore')\n",
        "\n",
        "# sync to database table\n",
        "train = oml.sync(table='RETAIL_FORECAST_TRAIN')\n",
        "test = oml.sync(table='RETAIL_FORECAST_TEST')\n",
        "\n",
        "# set x & y\n",
        "X_train, y_train = train.drop('SALES_QUANTITY'), train['SALES_QUANTITY']\n",
        "X_test, y_test = test.drop('SALES_QUANTITY'), test['SALES_QUANTITY']\n",
        "\n",
        "pipeline = automl.Pipeline(mining_function='regression', score_metric='neg_mean_squared_error', n_algos_tuned=1, model_name = 'OML4PY_AUTO_PIPE', optimization='fast')\n",
        "pipeline = pipeline.fit(X_train, y_train, case_id='SALES_DATE',time_budget=120)\n",
        "\n",
        "predictions = pipeline.predict(X_test, supplemental_cols=y_test)\n",
        "preds = predictions.pull()\n",
        "oml.create(preds,\"RETAIL_FORECAST_PREDICTIONS\")\n",
        "\n",
        "pipeline.top_k_tuned_models[0]['fitted_model']"
      ],
      "execution_count": 4
    },
    {
      "cell_type": "markdown",
      "metadata": {
        "collapsed": false
      },
      "source": [
        "### Build AutoML Models using AutoML Components Directly"
      ]
    },
    {
      "cell_type": "code",
      "metadata": {
        "collapsed": false,
        "name": "Use OML4Py to do AutoML Tuning"
      },
      "outputs": [
        {
          "output_type": "display_data",
          "metadata": {},
          "data": {}
        }
      ],
      "source": [
        "import oml\n",
        "from oml import automl\n",
        "import pandas as pd\n",
        "import numpy as np\n",
        "import warnings\n",
        "warnings.filterwarnings('ignore')\n",
        "\n",
        "train = oml.sync(table='RETAIL_FORECAST_TRAIN')\n",
        "\n",
        "# set x & y\n",
        "X_train, y_train = train.drop('SALES_QUANTITY'), train['SALES_QUANTITY']"
      ],
      "execution_count": 1
    },
    {
      "cell_type": "code",
      "metadata": {
        "collapsed": false
      },
      "outputs": [
        {
          "output_type": "display_data",
          "metadata": {},
          "data": {
            "text/plain": [
              "\nAlgorithm Name: Generalized Linear Model\n\nMining Function: REGRESSION\n\nTarget: SALES_QUANTITY\n\nSettings: \n                   setting name                  setting value\n0                     ALGO_NAME  ALGO_GENERALIZED_LINEAR_MODEL\n1               GLMS_CONF_LEVEL                            .95\n2           GLMS_FTR_GENERATION    GLMS_FTR_GENERATION_DISABLE\n3            GLMS_FTR_SELECTION     GLMS_FTR_SELECTION_DISABLE\n4            GLMS_LINK_FUNCTION             GLMS_IDENTITY_LINK\n5         GLMS_RIDGE_REGRESSION         GLMS_RIDGE_REG_DISABLE\n6                  ODMS_DETAILS                    ODMS_ENABLE\n7  ODMS_MISSING_VALUE_TREATMENT        ODMS_MISSING_VALUE_AUTO\n8                 ODMS_SAMPLING          ODMS_SAMPLING_DISABLE\n9                     PREP_AUTO                             ON\n\nComputed Settings: \n              setting name            setting value\n0      GLMS_CONV_TOLERANCE  .0000050000000000000004\n1      GLMS_NUM_ITERATIONS                       30\n2              GLMS_SOLVER         GLMS_SOLVER_CHOL\n3  ODMS_EXPLOSION_MIN_SUPP                       30\n\nGlobal Statistics: \n             attribute name attribute value\n0         ADJUSTED_R_SQUARE        0.929366\n1                       AIC     1.06379e+07\n2                 COEFF_VAR         15.4027\n3                 CONVERGED             YES\n4        CORRECTED_TOTAL_DF         2743871\n5          CORRECTED_TOT_SS     1.87535e+09\n6            DEPENDENT_MEAN         45.1097\n7                  ERROR_DF         2743763\n8         ERROR_MEAN_SQUARE         48.2759\n9         ERROR_SUM_SQUARES     1.32458e+08\n10                  F_VALUE          334284\n11                    GMSEP         48.2778\n12               HOCKING_SP     1.75948e-05\n13                      J_P         48.2778\n14                 MODEL_DF             108\n15          MODEL_F_P_VALUE               0\n16        MODEL_MEAN_SQUARE     1.61379e+07\n17        MODEL_SUM_SQUARES     1.74289e+09\n18               NUM_PARAMS             109\n19                 NUM_ROWS         2743872\n20          RANK_DEFICIENCY              46\n21             ROOT_MEAN_SQ         6.94808\n22                     R_SQ        0.929369\n23                     SBIC     1.06393e+07\n24  VALID_COVARIANCE_MATRIX              NO\n\nAttributes: \nCITY\nCOUNTY\nDAY\nMONTH\nPRODUCT_GROUP\nPRODUCT_SUB_GROUP\nSALES_LAG1\nSALES_LAG10\nSALES_LAG11\nSALES_LAG12\nSALES_LAG13\nSALES_LAG14\nSALES_LAG2\nSALES_LAG3\nSALES_LAG4\nSALES_LAG5\nSALES_LAG6\nSALES_LAG7\nSALES_LAG8\nSALES_LAG9\nSTOCK_DESC\n\nPartition: NO\n\nCoefficients: \n\n    attribute name    attribute value  ...  p value significance code\n0      (Intercept)               None  ...     None                  \n1             CITY         Birmingham  ...     None                  \n2             CITY  Brighton and Hove  ...     None                  \n3             CITY            Bristol  ...     None                  \n4             CITY          Cambridge  ...     None                  \n..             ...                ...  ...      ...               ...\n150     STOCK_DESC         Toiletries  ...     None                  \n151     STOCK_DESC              Vegan  ...     None                  \n152     STOCK_DESC         Vegetarian  ...     None                  \n153     STOCK_DESC               Wine  ...     None                  \n154     STOCK_DESC        World Foods  ...     None                  \n\n[155 rows x 7 columns]\n\nSignif. codes:  0 '***' 0.001 '**' 0.01 '*' 0.05 '.' 0.1 ' ' 1 '\n\nFit Details: \n\n                       name         value\n0         ADJUSTED_R_SQUARE  9.293663e-01\n1                       AIC  1.063791e+07\n2                 COEFF_VAR  1.540265e+01\n3        CORRECTED_TOTAL_DF  2.743871e+06\n4          CORRECTED_TOT_SS  1.875347e+09\n5            DEPENDENT_MEAN  4.510967e+01\n6                  ERROR_DF  2.743763e+06\n7         ERROR_MEAN_SQUARE  4.827588e+01\n8         ERROR_SUM_SQUARES  1.324576e+08\n9                   F_VALUE  3.342842e+05\n10                    GMSEP  4.827780e+01\n11               HOCKING_SP  1.759478e-05\n12                      J_P  4.827780e+01\n13          MODEL_CONVERGED  1.000000e+00\n14                 MODEL_DF  1.080000e+02\n15          MODEL_F_P_VALUE  0.000000e+00\n16        MODEL_MEAN_SQUARE  1.613786e+07\n17        MODEL_SUM_SQUARES  1.742889e+09\n18               NUM_PARAMS  1.090000e+02\n19                 NUM_ROWS  2.743872e+06\n20          RANK_DEFICIENCY  4.600000e+01\n21             ROOT_MEAN_SQ  6.948085e+00\n22                     R_SQ  9.293690e-01\n23                     SBIC  1.063931e+07\n24  VALID_COVARIANCE_MATRIX  0.000000e+00\n\nRank: \n\n109\n\nDeviance: \n\n132457573.744396\n\nAIC: \n\n10637914\n\nNull Deviance: \n\n1875346973.570494\n\nDF Residual: \n\n2743763.0\n\nDF Null: \n\n2743871.0\n\nConverged: \n\nTrue\n\n\n"
            ]
          }
        }
      ],
      "source": [
        "tuner = automl.ModelTuning(mining_function='regression',score_metric='neg_mean_squared_error',parallel=4)\n",
        "model_tuning = tuner.tune('glm',X_train,y_train,case_id='SALES_DATE')\n",
        "best_model = model_tuning['best_model']\n",
        "best_model"
      ],
      "execution_count": 1
    },
    {
      "cell_type": "code",
      "metadata": {
        "collapsed": false,
        "name": "Use OML4Py to Make Predictions"
      },
      "outputs": [
        {
          "output_type": "display_data",
          "metadata": {},
          "data": {}
        }
      ],
      "source": [
        "test = oml.sync(table='RETAIL_FORECAST_TEST')\n",
        "X_test, y_test = test.drop('SALES_QUANTITY'), test['SALES_QUANTITY']\n",
        "preds = best_model.predict(X_test, supplemental_cols=y_test)"
      ],
      "execution_count": 1
    },
    {
      "cell_type": "code",
      "metadata": {
        "collapsed": false
      },
      "outputs": [
        {
          "output_type": "display_data",
          "metadata": {},
          "data": {
            "text/plain": [
              "   SALES_QUANTITY  PREDICTION\n0       97.311084   98.051583\n1      109.528315   97.907387\n2      102.244332  100.545056\n3      114.742039  100.293835\n4       96.014670  103.233427\n"
            ]
          }
        }
      ],
      "source": [
        "print(preds.head())"
      ],
      "execution_count": 1
    },
    {
      "cell_type": "code",
      "metadata": {
        "collapsed": false,
        "name": "Use OML4Py to Validate Model Performance"
      },
      "outputs": [
        {
          "output_type": "display_data",
          "metadata": {},
          "data": {
            "text/plain": [
              "Training MSE: 46.8808\nTraining RMSE: 6.847\n"
            ]
          }
        }
      ],
      "source": [
        "import sklearn as skl\n",
        "\n",
        "preds_df = preds.pull()\n",
        "y_true = preds_df['SALES_QUANTITY']\n",
        "y_pred = preds_df['PREDICTION']\n",
        "metric_score = skl.metrics.mean_squared_error(y_true, y_pred)\n",
        "print('Training MSE:',round(metric_score, 4))\n",
        "print('Training RMSE:',round(metric_score**0.5, 4))"
      ],
      "execution_count": 2
    },
    {
      "cell_type": "code",
      "metadata": {
        "collapsed": false,
        "name": "Export model from OML4Py to ODM Repository"
      },
      "outputs": [
        {
          "output_type": "display_data",
          "metadata": {},
          "data": {}
        }
      ],
      "source": [
        "oml.drop(table='AUTOML_GLM_SERMODEL')\n",
        "model_blob_table = best_model.export_sermodel(table='AUTOML_GLM_SERMODEL',)"
      ],
      "execution_count": 1
    },
    {
      "cell_type": "raw",
      "metadata": {
        "collapsed": false
      },
      "source": [
        "%script\n",
        " BEGIN\n",
        "  DBMS_DATA_MINING.DROP_MODEL(model_name => 'OML4PY_AUTO_TUNED_GLM');\n",
        "END;\n",
        "/"
      ]
    },
    {
      "cell_type": "code",
      "metadata": {
        "collapsed": false
      },
      "outputs": [
        {
          "output_type": "display_data",
          "metadata": {},
          "data": {
            "text/plain": [
              "Native ODM model 'OML4PY_AUTO_TUNED_GLM' created from serialized BLOB.\n"
            ]
          }
        }
      ],
      "source": [
        "sql_import_model = f\"\"\"\n",
        "declare\n",
        " v_blob blob;\n",
        "BEGIN\n",
        " select serval into v_blob from datascience.automl_glm_sermodel;\n",
        " dbms_data_mining.import_sermodel(v_blob, 'OML4PY_AUTO_TUNED_GLM');\n",
        " END;\n",
        "\"\"\"\n",
        "cr = oml.cursor()\n",
        "cr.execute(sql_import_model)\n",
        "\n",
        "print(\"Native ODM model 'OML4PY_AUTO_TUNED_GLM' created from serialized BLOB.\")"
      ],
      "execution_count": 1
    },
    {
      "cell_type": "markdown",
      "metadata": {
        "collapsed": false
      },
      "source": [
        "### Validate Accuracy on 5-Step Forecast"
      ]
    },
    {
      "cell_type": "raw",
      "metadata": {
        "collapsed": false,
        "name": "View Predictions from OML4Py"
      },
      "source": [
        "%sql select * from retail_forecast_predictions"
      ]
    },
    {
      "cell_type": "raw",
      "metadata": {
        "collapsed": false,
        "name": "Score OML4Py model via SQL and Calculate Squared Error"
      },
      "source": [
        "%sql create table model_validation as select a.*,prediction(GLM_RIDGE_OML4PY_AUTO_PIPE using a.* ) PREDICTED_SALES_QUANTITY, power(a.sales_quantity - prediction(GLM_RIDGE_OML4PY_AUTO_PIPE using a.* ),2) glm_square_error from retail_forecast_test a"
      ]
    },
    {
      "cell_type": "raw",
      "metadata": {
        "collapsed": false,
        "name": "Visualize RMSE by Date of Validation Data"
      },
      "source": [
        "%sql\n",
        "     select distinct sales_date, power(avg(glm_square_error),0.5) RMSE\n",
        "     from model_validation group by sales_date order by sales_date;"
      ]
    },
    {
      "cell_type": "markdown",
      "metadata": {
        "collapsed": false
      },
      "source": [
        "### Prepare Data for Out-of-sample Prediction"
      ]
    },
    {
      "cell_type": "raw",
      "metadata": {
        "collapsed": false,
        "name": "Create New Table for Next Prediction Step with 0 Sales Quantity"
      },
      "source": [
        "%sql create table retail_oos_base as (select distinct region,county,city,product_group,product_sub_group,stock_desc, to_date('19/04/2024','dd/mm/yyyy') sales_date, 0 sales_quantity from retail_forecast_data)"
      ]
    },
    {
      "cell_type": "raw",
      "metadata": {
        "collapsed": false,
        "name": "Union to Full Dataset"
      },
      "source": [
        "%sql\n",
        "create table retail_oos_lag_base as select region,county,city,product_group,product_sub_group,stock_desc,sales_date,sales_quantity from retail_oos_base\n",
        "     union \n",
        "     select region,county,city,product_group,product_sub_group,stock_desc,sales_date,sales_quantity from retail_forecast_data\n",
        "     order by sales_date, city, stock_desc"
      ]
    },
    {
      "cell_type": "raw",
      "metadata": {
        "collapsed": false,
        "name": "Perform Time Series Lagging on the Union Results Table"
      },
      "source": [
        "%sql \n",
        "create table retail_oos_lagged as\n",
        "select * from (\n",
        "select region,county,product_group,product_sub_group,city,stock_desc,sales_date,day,month,sales_quantity, sales_lag1,sales_lag2,sales_lag3,sales_lag4,sales_lag5,sales_lag6,sales_lag7,sales_lag8,sales_lag9,sales_lag10,sales_lag11,sales_lag12,sales_lag13,sales_lag14 from (\n",
        " select region,county,product_group,product_sub_group, city, stock_desc,city||'-'||stock_desc branch_item,sales_date, TO_CHAR(sales_date, 'DAY') day,TO_CHAR(sales_date, 'MONTH') month, sales_quantity,\n",
        " LAG(sales_quantity,1,0) OVER (ORDER BY city||'-'||stock_desc,sales_date) lag1,\n",
        " LAG(sales_quantity,2,0) OVER (ORDER BY city||'-'||stock_desc,sales_date) lag2,\n",
        " LAG(sales_quantity,3,0) OVER (ORDER BY city||'-'||stock_desc,sales_date) lag3,\n",
        " LAG(sales_quantity,4,0) OVER (ORDER BY city||'-'||stock_desc,sales_date) lag4,\n",
        " LAG(sales_quantity,5,0) OVER (ORDER BY city||'-'||stock_desc,sales_date) lag5,\n",
        "LAG(sales_quantity,6,0) OVER (ORDER BY city||'-'||stock_desc,sales_date) lag6,\n",
        "LAG(sales_quantity,7,0) OVER (ORDER BY city||'-'||stock_desc,sales_date) lag7,\n",
        "LAG(sales_quantity,8,0) OVER (ORDER BY city||'-'||stock_desc,sales_date) lag8,\n",
        "LAG(sales_quantity,9,0) OVER (ORDER BY city||'-'||stock_desc,sales_date) lag9,\n",
        "LAG(sales_quantity,10,0) OVER (ORDER BY city||'-'||stock_desc,sales_date) lag10,\n",
        "LAG(sales_quantity,11,0) OVER (ORDER BY city||'-'||stock_desc,sales_date) lag11,\n",
        "LAG(sales_quantity,12,0) OVER (ORDER BY city||'-'||stock_desc,sales_date) lag12,\n",
        "LAG(sales_quantity,13,0) OVER (ORDER BY city||'-'||stock_desc,sales_date) lag13,\n",
        "LAG(sales_quantity,14,0) OVER (ORDER BY city||'-'||stock_desc,sales_date) lag14,\n",
        "LAG(city||'-'||stock_desc,1,0) OVER (ORDER BY city||'-'||stock_desc,sales_date) lag1_lbl,\n",
        " LAG(city||'-'||stock_desc,2,0) OVER (ORDER BY city||'-'||stock_desc,sales_date) lag2_lbl,\n",
        " LAG(city||'-'||stock_desc,3,0) OVER (ORDER BY city||'-'||stock_desc,sales_date) lag3_lbl,\n",
        " LAG(city||'-'||stock_desc,4,0) OVER (ORDER BY city||'-'||stock_desc,sales_date) lag4_lbl,\n",
        " LAG(city||'-'||stock_desc,5,0) OVER (ORDER BY city||'-'||stock_desc,sales_date) lag5_lbl,\n",
        " LAG(city||'-'||stock_desc,6,0) OVER (ORDER BY city||'-'||stock_desc,sales_date) lag6_lbl,\n",
        " LAG(city||'-'||stock_desc,7,0) OVER (ORDER BY city||'-'||stock_desc,sales_date) lag7_lbl,\n",
        " LAG(city||'-'||stock_desc,8,0) OVER (ORDER BY city||'-'||stock_desc,sales_date) lag8_lbl,\n",
        " LAG(city||'-'||stock_desc,9,0) OVER (ORDER BY city||'-'||stock_desc,sales_date) lag9_lbl,\n",
        " LAG(city||'-'||stock_desc,10,0) OVER (ORDER BY city||'-'||stock_desc,sales_date) lag10_lbl,\n",
        " LAG(city||'-'||stock_desc,11,0) OVER (ORDER BY city||'-'||stock_desc,sales_date) lag11_lbl,\n",
        " LAG(city||'-'||stock_desc,12,0) OVER (ORDER BY city||'-'||stock_desc,sales_date) lag12_lbl,\n",
        " LAG(city||'-'||stock_desc,13,0) OVER (ORDER BY city||'-'||stock_desc,sales_date) lag13_lbl,\n",
        " LAG(city||'-'||stock_desc,14,0) OVER (ORDER BY city||'-'||stock_desc,sales_date) lag14_lbl,\n",
        "case when LAG(city||'-'||stock_desc,1,0) OVER (ORDER BY city||'-'||stock_desc,sales_date) = city||'-'||stock_desc then LAG(sales_quantity,1,0) OVER (ORDER BY city||'-'||stock_desc,sales_date) else 0 end as sales_lag1,\n",
        "case when  LAG(city||'-'||stock_desc,2,0) OVER (ORDER BY city||'-'||stock_desc,sales_date)  = city||'-'||stock_desc then LAG(sales_quantity,2,0) OVER (ORDER BY city||'-'||stock_desc,sales_date) else 0 end as sales_lag2,\n",
        "case when LAG(city||'-'||stock_desc,3,0) OVER (ORDER BY city||'-'||stock_desc,sales_date) = city||'-'||stock_desc then LAG(sales_quantity,3,0) OVER (ORDER BY city||'-'||stock_desc,sales_date) else 0 end as sales_lag3,\n",
        "case when LAG(city||'-'||stock_desc,4,0) OVER (ORDER BY city||'-'||stock_desc,sales_date) = city||'-'||stock_desc then  LAG(sales_quantity,4,0) OVER (ORDER BY city||'-'||stock_desc,sales_date) else 0 end as sales_lag4,\n",
        "case when LAG(city||'-'||stock_desc,5,0) OVER (ORDER BY city||'-'||stock_desc,sales_date) = city||'-'||stock_desc then LAG(sales_quantity,5,0) OVER (ORDER BY city||'-'||stock_desc,sales_date)  else 0 end as sales_lag5,\n",
        "case when LAG(city||'-'||stock_desc,6,0) OVER (ORDER BY city||'-'||stock_desc,sales_date) = city||'-'||stock_desc then LAG(sales_quantity,6,0) OVER (ORDER BY city||'-'||stock_desc,sales_date)  else 0 end as sales_lag6,\n",
        "case when LAG(city||'-'||stock_desc,7,0) OVER (ORDER BY city||'-'||stock_desc,sales_date) = city||'-'||stock_desc then LAG(sales_quantity,7,0) OVER (ORDER BY city||'-'||stock_desc,sales_date)  else 0 end as sales_lag7,\n",
        "case when LAG(city||'-'||stock_desc,8,0) OVER (ORDER BY city||'-'||stock_desc,sales_date) = city||'-'||stock_desc then LAG(sales_quantity,8,0) OVER (ORDER BY city||'-'||stock_desc,sales_date)  else 0 end as sales_lag8,\n",
        "case when LAG(city||'-'||stock_desc,9,0) OVER (ORDER BY city||'-'||stock_desc,sales_date) = city||'-'||stock_desc then LAG(sales_quantity,9,0) OVER (ORDER BY city||'-'||stock_desc,sales_date)  else 0 end as sales_lag9,\n",
        "case when LAG(city||'-'||stock_desc,10,0) OVER (ORDER BY city||'-'||stock_desc,sales_date) = city||'-'||stock_desc then LAG(sales_quantity,10,0) OVER (ORDER BY city||'-'||stock_desc,sales_date)  else 0 end as sales_lag10,\n",
        "case when LAG(city||'-'||stock_desc,11,0) OVER (ORDER BY city||'-'||stock_desc,sales_date) = city||'-'||stock_desc then LAG(sales_quantity,11,0) OVER (ORDER BY city||'-'||stock_desc,sales_date)  else 0 end as sales_lag11,\n",
        "case when LAG(city||'-'||stock_desc,12,0) OVER (ORDER BY city||'-'||stock_desc,sales_date) = city||'-'||stock_desc then LAG(sales_quantity,12,0) OVER (ORDER BY city||'-'||stock_desc,sales_date)  else 0 end as sales_lag12,\n",
        "case when LAG(city||'-'||stock_desc,13,0) OVER (ORDER BY city||'-'||stock_desc,sales_date) = city||'-'||stock_desc then LAG(sales_quantity,13,0) OVER (ORDER BY city||'-'||stock_desc,sales_date)  else 0 end as sales_lag13,\n",
        "case when LAG(city||'-'||stock_desc,14,0) OVER (ORDER BY city||'-'||stock_desc,sales_date) = city||'-'||stock_desc then LAG(sales_quantity,14,0) OVER (ORDER BY city||'-'||stock_desc,sales_date)  else 0 end as sales_lag14\n",
        "from retail_oos_lag_base order by city, stock_desc,sales_date ));"
      ]
    },
    {
      "cell_type": "markdown",
      "metadata": {
        "collapsed": false
      },
      "source": [
        "### Create Out-of-Sample Predictions (1-Step Prediction)"
      ]
    },
    {
      "cell_type": "raw",
      "metadata": {
        "collapsed": false,
        "name": "Predict 1-step Forecast using SQL"
      },
      "source": [
        "%sql select a.sales_date,a.day,a.month, a.region, a.county,a.city,a.product_group,a.product_sub_group,a.stock_desc,prediction(NN_8E539098E2 using a.* ) PREDICTED_SALES_QUANTITY,a.sales_lag1,a.sales_lag2,a.sales_lag3,a.sales_lag4 from retail_oos_lagged a where sales_date = to_date('19/04/2024','dd/mm/yyyy')"
      ]
    },
    {
      "cell_type": "markdown",
      "metadata": {
        "collapsed": false
      },
      "source": [
        "### Considerations for N-Step Forecasts\n",
        "\n",
        "To create multi-step forecasts with Machine Learning models you need to sequentially predict for Nth step by factoring in the N-1th step. A simple way to do this is to construct a loop using the above code that does the following:\n",
        "- Create an empty table for the Nth step\n",
        "- Union to temp table holding actuals\n",
        "- Lag for the number of required lags, e.g. if using 14 lags hold a history of around 20 days to avoid unnecessary compute\n",
        "- Create predictions\n",
        "- Append prediction as actual to temp table to be used to re-run the loop for N total steps"
      ]
    },
    {
      "cell_type": "markdown",
      "metadata": {
        "collapsed": false
      },
      "source": [
        "### Basic Implementation of N-Step Forecasts with OML4Py"
      ]
    },
    {
      "cell_type": "code",
      "metadata": {
        "collapsed": false,
        "name": "Multi-Step Forecast Function using OML4Py"
      },
      "outputs": [
        {
          "output_type": "display_data",
          "metadata": {},
          "data": {}
        }
      ],
      "source": [
        "import oml\n",
        "from oml import automl\n",
        "import pandas as pd\n",
        "import numpy as np\n",
        "import warnings\n",
        "from datetime import timedelta\n",
        "warnings.filterwarnings('ignore')\n",
        "\n",
        "def forecast(n_steps,data,model,date_var,prediction_var,hierarchies,forecast_results_table):\n",
        "    ''' implements multi-step forecast from oml regression model '''\n",
        "    ''' NOTE: This assumes no missing hierarchy levels, data should be cleansed before using '''\n",
        "    ''' NOTE: This also uses a hard-coded 14 day lag, in future this could be made dynamic or adjusted for individual use cases '''\n",
        "    ''' NOTE: This process only produces a point-prediction for the expected value of the series. it does not calculate upper/lower bounds etc. '''\n",
        "    ''' Written by Harry Snart, Data Scientist @ Oracle - June 2025 '''\n",
        "    ''' v0.1 '''\n",
        "\n",
        "    # sync to data\n",
        "    initial_data = oml.sync(table=data)\n",
        "    #print('synced with data')\n",
        "\n",
        "    # copy data for loop\n",
        "    try:\n",
        "        oml.drop(table='LOOP_DATA')\n",
        "\n",
        "    except:\n",
        "        pass\n",
        "\n",
        "    cr = oml.cursor()\n",
        "    cr.execute('create table loop_data as select * from '+ data)\n",
        "    #cr.execute('create table loop_data2 as select * from '+ data)\n",
        "\n",
        "    loop_data = oml.sync(table='LOOP_DATA')\n",
        "\n",
        "    #print('loop data created')\n",
        "\n",
        "    # get max date\n",
        "    max_date = initial_data[date_var].max()\n",
        "    #print('max date is',max_date)\n",
        "\n",
        "    for i in range(n_steps):\n",
        "        new_date = (max_date+timedelta(days=i+1)).strftime(\"%d/%m/%Y\")\n",
        "        #print('creating forecast for: ',new_date)\n",
        "\n",
        "        cr=oml.cursor()\n",
        "        cr.execute(''' drop table if exists new_date_base ''')\n",
        "\n",
        "        new_date_sql = f'''create table new_date_base as (select distinct {hierarchies}, to_date('{new_date}','dd/mm/yyyy') {date_var}, 0 {prediction_var} from {data})'''.format(hierarchies=hierarchies,new_date=new_date,data=data,date_var=date_var,prediction_var=prediction_var)\n",
        "        #print('running query: ',new_date_sql)\n",
        "\n",
        "        cr = oml.cursor()\n",
        "        cr.execute(new_date_sql) # create new_date_base table for next date\n",
        "\n",
        "        cr.execute(''' drop table if exists loop_data2 ''')\n",
        "\n",
        "        # union table to loop data to create loop2\n",
        "        union_sql_stmt = f'''create table loop_data2 as select {date_var}, {hierarchies}, {prediction_var} from new_date_base union select {date_var}, {hierarchies}, {prediction_var} from loop_data order by {date_var},{hierarchies}'''.format(hierarchies=hierarchies,date_var=date_var,prediction_var=prediction_var)\n",
        "        #print(union_sql_stmt)\n",
        "        cr = oml.cursor()\n",
        "        cr.execute(union_sql_stmt)\n",
        "\n",
        "        # lag loop data\n",
        "        hier_concat = hierarchies.replace(',','||')\n",
        "        cr.execute(''' drop table if exists oos_lags ''')\n",
        "\n",
        "        #print('creating lagged features')\n",
        "\n",
        "        lag_sql_stmt = f'''create table oos_lags as\n",
        "        select * from (\n",
        "        select {hierarchies},{date_var},day,month,{prediction_var}, sales_lag1,sales_lag2,sales_lag3,sales_lag4,sales_lag5,sales_lag6,sales_lag7,sales_lag8,sales_lag9,sales_lag10,sales_lag11,sales_lag12,sales_lag13,sales_lag14 from (\n",
        "        select {hierarchies},{hier_concat} branch_item,{date_var}, TO_CHAR({date_var}, 'DAY') day,TO_CHAR({date_var}, 'MONTH') month, {prediction_var},\n",
        "        LAG({prediction_var},1,0) OVER (ORDER BY {hier_concat},{date_var}) lag1,\n",
        "        LAG({prediction_var},2,0) OVER (ORDER BY {hier_concat},{date_var}) lag2,\n",
        "        LAG({prediction_var},3,0) OVER (ORDER BY {hier_concat},{date_var}) lag3,\n",
        "        LAG({prediction_var},4,0) OVER (ORDER BY {hier_concat},{date_var}) lag4,\n",
        "        LAG({prediction_var},5,0) OVER (ORDER BY {hier_concat},{date_var}) lag5,\n",
        "        LAG({prediction_var},6,0) OVER (ORDER BY {hier_concat},{date_var}) lag6,\n",
        "        LAG({prediction_var},7,0) OVER (ORDER BY {hier_concat},{date_var}) lag7,\n",
        "        LAG({prediction_var},8,0) OVER (ORDER BY {hier_concat},{date_var}) lag8,\n",
        "        LAG({prediction_var},9,0) OVER (ORDER BY {hier_concat},{date_var}) lag9,\n",
        "        LAG({prediction_var},10,0) OVER (ORDER BY {hier_concat},{date_var}) lag10,\n",
        "        LAG({prediction_var},11,0) OVER (ORDER BY {hier_concat},{date_var}) lag11,\n",
        "        LAG({prediction_var},12,0) OVER (ORDER BY {hier_concat},{date_var}) lag12,\n",
        "        LAG({prediction_var},13,0) OVER (ORDER BY {hier_concat},{date_var}) lag13,\n",
        "        LAG({prediction_var},14,0) OVER (ORDER BY {hier_concat},{date_var}) lag14,\n",
        "        LAG({hier_concat},1,0) OVER (ORDER BY {hier_concat},{date_var}) lag1_lbl,\n",
        "        LAG({hier_concat},2,0) OVER (ORDER BY {hier_concat},{date_var}) lag2_lbl,\n",
        "        LAG({hier_concat},3,0) OVER (ORDER BY {hier_concat},{date_var}) lag3_lbl,\n",
        "        LAG({hier_concat},4,0) OVER (ORDER BY {hier_concat},{date_var}) lag4_lbl,\n",
        "        LAG({hier_concat},5,0) OVER (ORDER BY {hier_concat},{date_var}) lag5_lbl,\n",
        "        LAG({hier_concat},6,0) OVER (ORDER BY {hier_concat},{date_var}) lag6_lbl,\n",
        "        LAG({hier_concat},7,0) OVER (ORDER BY {hier_concat},{date_var}) lag7_lbl,\n",
        "        LAG({hier_concat},8,0) OVER (ORDER BY {hier_concat},{date_var}) lag8_lbl,\n",
        "        LAG({hier_concat},9,0) OVER (ORDER BY {hier_concat},{date_var}) lag9_lbl,\n",
        "        LAG({hier_concat},10,0) OVER (ORDER BY {hier_concat},{date_var}) lag10_lbl,\n",
        "        LAG({hier_concat},11,0) OVER (ORDER BY {hier_concat},{date_var}) lag11_lbl,\n",
        "        LAG({hier_concat},12,0) OVER (ORDER BY {hier_concat},{date_var}) lag12_lbl,\n",
        "        LAG({hier_concat},13,0) OVER (ORDER BY {hier_concat},{date_var}) lag13_lbl,\n",
        "        LAG({hier_concat},14,0) OVER (ORDER BY {hier_concat},{date_var}) lag14_lbl,\n",
        "        case when LAG({hier_concat},1,0) OVER (ORDER BY {hier_concat},{date_var}) = {hier_concat} then LAG({prediction_var},1,0) OVER (ORDER BY {hier_concat},{date_var}) else 0 end as sales_lag1,\n",
        "        case when  LAG({hier_concat},2,0) OVER (ORDER BY {hier_concat},{date_var})  = {hier_concat} then LAG({prediction_var},2,0) OVER (ORDER BY {hier_concat},{date_var}) else 0 end as sales_lag2,\n",
        "        case when LAG({hier_concat},3,0) OVER (ORDER BY {hier_concat},{date_var}) = {hier_concat} then LAG({prediction_var},3,0) OVER (ORDER BY {hier_concat},{date_var}) else 0 end as sales_lag3,\n",
        "        case when LAG({hier_concat},4,0) OVER (ORDER BY {hier_concat},{date_var}) = {hier_concat} then  LAG({prediction_var},4,0) OVER (ORDER BY {hier_concat},{date_var}) else 0 end as sales_lag4,\n",
        "        case when LAG({hier_concat},5,0) OVER (ORDER BY {hier_concat},{date_var}) = {hier_concat} then LAG({prediction_var},5,0) OVER (ORDER BY {hier_concat},{date_var})  else 0 end as sales_lag5,\n",
        "        case when LAG({hier_concat},6,0) OVER (ORDER BY {hier_concat},{date_var}) = {hier_concat} then LAG({prediction_var},6,0) OVER (ORDER BY {hier_concat},{date_var})  else 0 end as sales_lag6,\n",
        "        case when LAG({hier_concat},7,0) OVER (ORDER BY {hier_concat},{date_var}) = {hier_concat} then LAG({prediction_var},7,0) OVER (ORDER BY {hier_concat},{date_var})  else 0 end as sales_lag7,\n",
        "        case when LAG({hier_concat},8,0) OVER (ORDER BY {hier_concat},{date_var}) = {hier_concat} then LAG({prediction_var},8,0) OVER (ORDER BY {hier_concat},{date_var})  else 0 end as sales_lag8,\n",
        "        case when LAG({hier_concat},9,0) OVER (ORDER BY {hier_concat},{date_var}) = {hier_concat} then LAG({prediction_var},9,0) OVER (ORDER BY {hier_concat},{date_var})  else 0 end as sales_lag9,\n",
        "        case when LAG({hier_concat},10,0) OVER (ORDER BY {hier_concat},{date_var}) = {hier_concat} then LAG({prediction_var},10,0) OVER (ORDER BY {hier_concat},{date_var})  else 0 end as sales_lag10,\n",
        "        case when LAG({hier_concat},11,0) OVER (ORDER BY {hier_concat},{date_var}) = {hier_concat} then LAG({prediction_var},11,0) OVER (ORDER BY {hier_concat},{date_var})  else 0 end as sales_lag11,\n",
        "        case when LAG({hier_concat},12,0) OVER (ORDER BY {hier_concat},{date_var}) = {hier_concat} then LAG({prediction_var},12,0) OVER (ORDER BY {hier_concat},{date_var})  else 0 end as sales_lag12,\n",
        "        case when LAG({hier_concat},13,0) OVER (ORDER BY {hier_concat},{date_var}) = {hier_concat} then LAG({prediction_var},13,0) OVER (ORDER BY {hier_concat},{date_var})  else 0 end as sales_lag13,\n",
        "        case when LAG({hier_concat},14,0) OVER (ORDER BY {hier_concat},{date_var}) = {hier_concat} then LAG({prediction_var},14,0) OVER (ORDER BY {hier_concat},{date_var})  else 0 end as sales_lag14\n",
        "        from loop_data2 order by {hierarchies},{date_var} )) where {date_var} = (select max({date_var}) from loop_data2)'''.format(hier_concat=hier_concat,date_var=date_var,hierarchies=hierarchies,prediction_var=prediction_var)\n",
        "        #print(lag_sql_stmt)\n",
        "        cr = oml.cursor()\n",
        "        cr.execute(lag_sql_stmt)\n",
        "        #print('lagged features created')\n",
        "\n",
        "        # create predictions from lagged features\n",
        "        print('creating predictions for:',new_date)\n",
        "        cr.execute(''' drop table if exists loop_preds ''')\n",
        "\n",
        "        pred_sql_stmt = f''' create table loop_preds as select {hierarchies},{date_var},PREDICTION({model} using *) {prediction_var} from oos_lags'''.format(hierarchies=hierarchies,date_var=date_var,model=model,prediction_var=prediction_var)\n",
        "\n",
        "        cr = oml.cursor()\n",
        "        cr.execute(pred_sql_stmt)\n",
        "\n",
        "        # append predictions as actuals to main loop_data table using temp loop table\n",
        "        cr.execute(''' drop table if exists loop_temp ''')\n",
        "        temp_loop_sql_stmt = f''' create table loop_temp as select {date_var}, {hierarchies}, {prediction_var} from loop_preds union select {date_var}, {hierarchies}, {prediction_var} from loop_data'''.format(date_var=date_var,hierarchies=hierarchies,prediction_var=prediction_var)\n",
        "        cr.execute(temp_loop_sql_stmt)\n",
        "        #print('predictions appended to loop_temp table')\n",
        "\n",
        "        cr.execute(''' drop table if exists loop_data''')\n",
        "        cr.execute('''create table loop_data as select * from loop_temp''')\n",
        "        #print('updated loop_data table with predictions')\n",
        "\n",
        "    print('loop exited')\n",
        "\n",
        "    # create results table\n",
        "    drop_stmt = f''' drop table if exists {forecast_results_table}'''.format(forecast_results_table=forecast_results_table)\n",
        "    cr.execute(drop_stmt)\n",
        "\n",
        "    output_stmt = f''' create table {forecast_results_table} as select a.*, case when {date_var} > (select max({date_var}) from {data}) then 'FORECAST' else 'ACTUAL' end SERIES from loop_data a '''.format(forecast_results_table=forecast_results_table,date_var=date_var,data=data)\n",
        "    cr.execute(output_stmt)\n",
        "    print('end of forecast')"
      ],
      "execution_count": 22
    },
    {
      "cell_type": "code",
      "metadata": {
        "collapsed": false,
        "name": "Run Function using OML4Py"
      },
      "outputs": [
        {
          "output_type": "display_data",
          "metadata": {},
          "data": {
            "text/plain": [
              "creating predictions for: 19/04/2024\ncreating predictions for: 20/04/2024\ncreating predictions for: 21/04/2024\nloop exited\nend of forecast\n"
            ]
          }
        }
      ],
      "source": [
        "# run forecasting function\n",
        "forecast(n_steps=3,data='RETAIL_FORECAST_DATA',model='NN_8E539098E2',date_var='SALES_DATE',prediction_var='SALES_QUANTITY',hierarchies='region,county,city,product_group,product_sub_group,stock_desc',forecast_results_table='MULTI_STEP_FORECAST')"
      ],
      "execution_count": 27
    },
    {
      "cell_type": "raw",
      "metadata": {
        "collapsed": false,
        "name": "Check Output Table"
      },
      "source": [
        "%sql select min(sales_date),max(sales_date) from multi_step_forecast"
      ]
    },
    {
      "cell_type": "raw",
      "metadata": {
        "collapsed": false
      },
      "source": [
        "%sql\n",
        "create table forecast_total_sales as select distinct sales_date,  series, sum(sales_quantity) sales_quantity from multi_step_forecast where sales_date > to_date('01/04/2024','dd/mm/yyyy') group by sales_date,series"
      ]
    },
    {
      "cell_type": "raw",
      "metadata": {
        "collapsed": false
      },
      "source": [
        "%sql select * from forecast_total_sales order by sales_date asc"
      ]
    },
    {
      "cell_type": "code",
      "metadata": {
        "collapsed": false
      },
      "outputs": [
        {
          "output_type": "display_data",
          "metadata": {},
          "data": {
            "text/html": [
              "<div style='width:auto;height:auto'><img src=data:image/png;base64,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 style='width=auto;height:auto'><div>\n"
            ]
          }
        }
      ],
      "source": [
        "import oml \n",
        "import pandas as pd\n",
        "import matplotlib.pyplot as plt\n",
        "import matplotlib.dates as mdates\n",
        "from datetime import datetime\n",
        "\n",
        "\n",
        "df = oml.sync(table='FORECAST_TOTAL_SALES').pull()\n",
        "\n",
        "df = df.sort_values(by='SALES_DATE')\n",
        "\n",
        "# Create the plot\n",
        "#plt.figure(figsize=(10, 6))\n",
        "fig,ax = plt.subplots(figsize=(10,6))\n",
        "\n",
        "# Get unique groups to iterate and plot each group\n",
        "groups = df['SERIES'].unique()\n",
        "\n",
        "for group in groups:\n",
        "    # Filter data for the current group\n",
        "    group_df = df[df['SERIES'] == group]\n",
        "    # Plot 'quantity' against 'date' for the current group\n",
        "    #plt.plot(group_df['SALES_DATE'], group_df['SALES_QUANTITY'], label=f'Group {group}',markeredgewidth=2,marker='o')\n",
        "    ax.plot(group_df['SALES_DATE'],group_df['SALES_QUANTITY'],label=f'Group {group}',markeredgewidth=2,marker='o')\n",
        "\n",
        "ax.xaxis.set_major_locator(mdates.DayLocator(interval=1))\n",
        "ax.xaxis.set_major_formatter(mdates.DateFormatter('%b %d'))\n",
        "fig.autofmt_xdate()\n",
        "\n",
        "ax.set_title('Forecast and Actuals by Date') # Use ax.set_title\n",
        "ax.set_xlabel('Date') # Use ax.set_xlabel\n",
        "ax.set_ylabel('Sales Quantity') # Use ax.set_ylabel\n",
        "ax.grid(True)\n",
        "ax.legend() # Display the legend to differentiate groups\n",
        "plt.tight_layout() # Adjust layout to prevent labels from overlapping\n",
        "\n",
        "# Display the plot\n",
        "plt.show()\n",
        "\n",
        "# Add titles and labels\n",
        "#plt.title('Forecast and Actuals by Date')\n",
        "#plt.xlabel('Date')\n",
        "#plt.ylabel('Sales Quantity')\n",
        "#plt.grid(True)\n",
        "#plt.legend() # Display the legend to differentiate groups\n",
        "#plt.tight_layout() # Adjust layout to prevent labels from overlapping\n",
        "\n",
        "# Display the plot\n",
        "#plt.show()"
      ],
      "execution_count": 7
    },
    {
      "cell_type": "markdown",
      "metadata": {
        "collapsed": false
      },
      "source": [
        "### Summary\n",
        "\n",
        "This demonstration has shown how we can use automl pipelines and components to train machine learning models for time-series forecasting. We saw how data preparation was done using SQL processing and how we were able to create and visualize a multi-step forecast"
      ]
    }
  ]
}